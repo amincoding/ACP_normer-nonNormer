{
 "cells": [
  {
   "cell_type": "markdown",
   "id": "1609915c",
   "metadata": {},
   "source": [
    "## TP of Mr.cheragui held by Mr.moulay lakhdar\n",
    "### ACP TP\n",
    "#### by abdedaiem amin"
   ]
  },
  {
   "cell_type": "code",
   "execution_count": 1,
   "id": "350e8bca",
   "metadata": {},
   "outputs": [],
   "source": [
    "import math\n",
    "import numpy as np\n",
    "import math as m\n",
    "\n",
    "import scipy.linalg\n",
    "import sympy\n",
    "from sympy import *\n",
    "from sympy.solvers import solve\n",
    "from sympy import Symbol\n",
    "from scipy import *\n",
    "import matplotlib.pyplot as plt\n",
    "import pandas as pd\n",
    "from sklearn.decomposition import PCA\n",
    "lamda = Symbol(\"lamda\")\n",
    "a = Symbol(\"a\")\n",
    "b = Symbol(\"b\")\n",
    "c = Symbol(\"c\")"
   ]
  },
  {
   "cell_type": "code",
   "execution_count": 2,
   "id": "33174cdd",
   "metadata": {},
   "outputs": [],
   "source": [
    "matrice = np.array([[1 , 2 ],[ 8 , 9]])\n",
    "matrice2 = np.array([[1 , 2 , 1] , [0 , 1 , 0] , [ 1 , 0  ,1 ] ])\n",
    "file = pd.read_csv(\"TP_CHERAGUI.csv\")"
   ]
  },
  {
   "cell_type": "code",
   "execution_count": 3,
   "id": "7e48e3a0",
   "metadata": {},
   "outputs": [
    {
     "data": {
      "text/html": [
       "<div>\n",
       "<style scoped>\n",
       "    .dataframe tbody tr th:only-of-type {\n",
       "        vertical-align: middle;\n",
       "    }\n",
       "\n",
       "    .dataframe tbody tr th {\n",
       "        vertical-align: top;\n",
       "    }\n",
       "\n",
       "    .dataframe thead th {\n",
       "        text-align: right;\n",
       "    }\n",
       "</style>\n",
       "<table border=\"1\" class=\"dataframe\">\n",
       "  <thead>\n",
       "    <tr style=\"text-align: right;\">\n",
       "      <th></th>\n",
       "      <th>CAR</th>\n",
       "      <th>LEC</th>\n",
       "      <th>GEA</th>\n",
       "    </tr>\n",
       "  </thead>\n",
       "  <tbody>\n",
       "    <tr>\n",
       "      <th>0</th>\n",
       "      <td>10</td>\n",
       "      <td>6</td>\n",
       "      <td>8</td>\n",
       "    </tr>\n",
       "    <tr>\n",
       "      <th>1</th>\n",
       "      <td>6</td>\n",
       "      <td>11</td>\n",
       "      <td>10</td>\n",
       "    </tr>\n",
       "    <tr>\n",
       "      <th>2</th>\n",
       "      <td>12</td>\n",
       "      <td>13</td>\n",
       "      <td>8</td>\n",
       "    </tr>\n",
       "    <tr>\n",
       "      <th>3</th>\n",
       "      <td>12</td>\n",
       "      <td>10</td>\n",
       "      <td>14</td>\n",
       "    </tr>\n",
       "  </tbody>\n",
       "</table>\n",
       "</div>"
      ],
      "text/plain": [
       "   CAR  LEC  GEA\n",
       "0   10    6    8\n",
       "1    6   11   10\n",
       "2   12   13    8\n",
       "3   12   10   14"
      ]
     },
     "execution_count": 3,
     "metadata": {},
     "output_type": "execute_result"
    }
   ],
   "source": [
    "DATA = pd.DataFrame(file)\n",
    "DATA"
   ]
  },
  {
   "cell_type": "code",
   "execution_count": 4,
   "id": "ea292d14",
   "metadata": {},
   "outputs": [
    {
     "data": {
      "text/plain": [
       "array([[10,  6,  8],\n",
       "       [ 6, 11, 10],\n",
       "       [12, 13,  8],\n",
       "       [12, 10, 14]])"
      ]
     },
     "execution_count": 4,
     "metadata": {},
     "output_type": "execute_result"
    }
   ],
   "source": [
    "DATA = np.array(DATA)\n",
    "DATA"
   ]
  },
  {
   "cell_type": "code",
   "execution_count": 5,
   "id": "b3bd0a61",
   "metadata": {},
   "outputs": [],
   "source": [
    "class ACPNonNorme():\n",
    "    def __init__(self, matrice):\n",
    "        self.matrice = matrice\n",
    "\n",
    "    def CalcBARS(self,matrice , elements):\n",
    "        CAR_bar , LEC_bar , GEA_bar = 0,0,0\n",
    "        for i in range(len(matrice[0]) + 1):\n",
    "            CAR_bar += matrice[i][0]\n",
    "            LEC_bar += matrice[i][1]\n",
    "            GEA_bar += matrice[i][2]\n",
    "        sums = [CAR_bar , LEC_bar , GEA_bar]\n",
    "        return round(CAR_bar/ elements , 2) , round(LEC_bar/ elements , 2) , round(GEA_bar/ elements , 2) , sums\n",
    "\n",
    "    def CalcMatriceCenter(self,matrice , elements , sums):\n",
    "        Xij =  list()\n",
    "        for i in range(len(matrice)):\n",
    "            temp = list()\n",
    "            for j in range(len(matrice[i])):\n",
    "                temp.append(round((matrice[i][j] - sums[0]/4), 2))\n",
    "            Xij.append(temp)\n",
    "        return np.array(Xij)\n",
    "\n",
    "    def CalcMatriceV(self,V):\n",
    "        return 1/len(V) * V.T.dot(V)\n",
    "\n",
    "    def return_DET_matricx(self, V):\n",
    "        identifier = np.array([[1,0,0] , [0,1,0] , [0,0,1]])\n",
    "        return V - lamda*identifier\n",
    "\n",
    "    def return_V(self, V , sol):\n",
    "        identifier = np.array([[sol,0,0] , [0,sol,0] , [0,0,sol]])\n",
    "        return V - sol*identifier\n",
    "\n",
    "\n",
    "    def make_equations(self,V):\n",
    "        n = list()\n",
    "        for row in V:\n",
    "            n.append(row)\n",
    "        return n\n",
    "class ACPNorme():\n",
    "    pass\n",
    "\n",
    "def moyan(array):\n",
    "    return 1/len(array) * sum(array[x] for x in range(len(array)))\n",
    "\n",
    "def var(array , moy):\n",
    "    res = 0\n",
    "    for a in array:\n",
    "        res += math.pow((a - moy), 2)\n",
    "    return 1/len(array) *  res\n",
    "\n",
    "def cov(array1 , array2, moy , moy2):\n",
    "    res = 0\n",
    "    for i in range(len(array1)):\n",
    "        res += (array1[i] - moy) * (array2[i] - moy2)\n",
    "    return 1/len(array1) * res\n",
    "\n",
    "def cor(convXY , varX , varY):\n",
    "    return convXY / (math.sqrt(varX)*math.sqrt(varY))"
   ]
  },
  {
   "cell_type": "code",
   "execution_count": 6,
   "id": "e4184b49",
   "metadata": {},
   "outputs": [],
   "source": [
    "test = ACPNonNorme(DATA)"
   ]
  },
  {
   "cell_type": "code",
   "execution_count": 7,
   "id": "891c7527",
   "metadata": {},
   "outputs": [],
   "source": [
    "# prints the matrice center\n",
    "CAR_bar , LEC_bar , GEA_bar , sums= test.CalcBARS(DATA , 4)\n",
    "center = test.CalcMatriceCenter(DATA , 4 , sums)"
   ]
  },
  {
   "cell_type": "code",
   "execution_count": 8,
   "id": "7bc00bae",
   "metadata": {},
   "outputs": [
    {
     "data": {
      "text/html": [
       "<div>\n",
       "<style scoped>\n",
       "    .dataframe tbody tr th:only-of-type {\n",
       "        vertical-align: middle;\n",
       "    }\n",
       "\n",
       "    .dataframe tbody tr th {\n",
       "        vertical-align: top;\n",
       "    }\n",
       "\n",
       "    .dataframe thead th {\n",
       "        text-align: right;\n",
       "    }\n",
       "</style>\n",
       "<table border=\"1\" class=\"dataframe\">\n",
       "  <thead>\n",
       "    <tr style=\"text-align: right;\">\n",
       "      <th></th>\n",
       "      <th>0</th>\n",
       "      <th>1</th>\n",
       "      <th>2</th>\n",
       "    </tr>\n",
       "  </thead>\n",
       "  <tbody>\n",
       "    <tr>\n",
       "      <th>0</th>\n",
       "      <td>0.0</td>\n",
       "      <td>-4.0</td>\n",
       "      <td>-2.0</td>\n",
       "    </tr>\n",
       "    <tr>\n",
       "      <th>1</th>\n",
       "      <td>-4.0</td>\n",
       "      <td>1.0</td>\n",
       "      <td>0.0</td>\n",
       "    </tr>\n",
       "    <tr>\n",
       "      <th>2</th>\n",
       "      <td>2.0</td>\n",
       "      <td>3.0</td>\n",
       "      <td>-2.0</td>\n",
       "    </tr>\n",
       "    <tr>\n",
       "      <th>3</th>\n",
       "      <td>2.0</td>\n",
       "      <td>0.0</td>\n",
       "      <td>4.0</td>\n",
       "    </tr>\n",
       "  </tbody>\n",
       "</table>\n",
       "</div>"
      ],
      "text/plain": [
       "     0    1    2\n",
       "0  0.0 -4.0 -2.0\n",
       "1 -4.0  1.0  0.0\n",
       "2  2.0  3.0 -2.0\n",
       "3  2.0  0.0  4.0"
      ]
     },
     "execution_count": 8,
     "metadata": {},
     "output_type": "execute_result"
    }
   ],
   "source": [
    "pd.DataFrame(center)"
   ]
  },
  {
   "cell_type": "code",
   "execution_count": 9,
   "id": "c2fa3957",
   "metadata": {},
   "outputs": [
    {
     "data": {
      "text/plain": [
       "array([[6. , 0.5, 1. ],\n",
       "       [0.5, 6.5, 0.5],\n",
       "       [1. , 0.5, 6. ]])"
      ]
     },
     "execution_count": 9,
     "metadata": {},
     "output_type": "execute_result"
    }
   ],
   "source": [
    "# prints the matrice V\n",
    "V = test.CalcMatriceV(center)\n",
    "V"
   ]
  },
  {
   "cell_type": "code",
   "execution_count": 10,
   "id": "929aacf2",
   "metadata": {},
   "outputs": [],
   "source": [
    "equation = test.return_DET_matricx(V)"
   ]
  },
  {
   "cell_type": "code",
   "execution_count": 11,
   "id": "a0bcf08f",
   "metadata": {},
   "outputs": [
    {
     "data": {
      "text/plain": [
       "array([[6.0 - lamda, 0.500000000000000, 1.00000000000000],\n",
       "       [0.500000000000000, 6.5 - lamda, 0.500000000000000],\n",
       "       [1.00000000000000, 0.500000000000000, 6.0 - lamda]], dtype=object)"
      ]
     },
     "execution_count": 11,
     "metadata": {},
     "output_type": "execute_result"
    }
   ],
   "source": [
    "equation"
   ]
  },
  {
   "cell_type": "code",
   "execution_count": 12,
   "id": "5eacd1cb",
   "metadata": {},
   "outputs": [],
   "source": [
    "r = sympy.Matrix(equation)"
   ]
  },
  {
   "cell_type": "code",
   "execution_count": 13,
   "id": "b7a78f4b",
   "metadata": {},
   "outputs": [
    {
     "data": {
      "text/latex": [
       "$\\displaystyle - 1.0 \\lambda^{3} + 18.5 \\lambda^{2} - 112.5 \\lambda + 225.0$"
      ],
      "text/plain": [
       "-1.0*lamda**3 + 18.5*lamda**2 - 112.5*lamda + 225.0"
      ]
     },
     "execution_count": 13,
     "metadata": {},
     "output_type": "execute_result"
    }
   ],
   "source": [
    "matrice_det = r.det()\n",
    "matrice_det"
   ]
  },
  {
   "cell_type": "code",
   "execution_count": 14,
   "id": "faea8857",
   "metadata": {},
   "outputs": [],
   "source": [
    "solutions = solve(matrice_det)"
   ]
  },
  {
   "cell_type": "code",
   "execution_count": 15,
   "id": "1b1cecf2",
   "metadata": {},
   "outputs": [
    {
     "data": {
      "text/plain": [
       "[5.00000000000000, 6.00000000000000, 7.50000000000000]"
      ]
     },
     "execution_count": 15,
     "metadata": {},
     "output_type": "execute_result"
    }
   ],
   "source": [
    "solutions"
   ]
  },
  {
   "cell_type": "code",
   "execution_count": 16,
   "id": "9f12ba2b",
   "metadata": {},
   "outputs": [
    {
     "data": {
      "text/latex": [
       "$\\displaystyle 7.5$"
      ],
      "text/plain": [
       "7.50000000000000"
      ]
     },
     "execution_count": 16,
     "metadata": {},
     "output_type": "execute_result"
    }
   ],
   "source": [
    "best_solution = max(x for x in solutions)\n",
    "best_solution"
   ]
  },
  {
   "cell_type": "code",
   "execution_count": 17,
   "id": "fa11a62c",
   "metadata": {},
   "outputs": [
    {
     "name": "stdout",
     "output_type": "stream",
     "text": [
      "40%\n",
      "72%\n",
      "100\n"
     ]
    }
   ],
   "source": [
    "first_percentage = (solutions[2] / sum(solutions) ) * 100\n",
    "print(str(floor(first_percentage)) + \"%\")\n",
    "second_percentage = ((solutions[2] + solutions[1]) / sum(solutions)) * 100\n",
    "print(str(floor(second_percentage)) + \"%\")\n",
    "third_percentage = (((solutions[2] + solutions[1])  + solutions[0]) / sum(solutions) )* 100\n",
    "print(floor(third_percentage))"
   ]
  },
  {
   "cell_type": "code",
   "execution_count": 18,
   "id": "152fde5c",
   "metadata": {},
   "outputs": [],
   "source": [
    "new_V = test.return_V(V,solutions[2])"
   ]
  },
  {
   "cell_type": "code",
   "execution_count": 19,
   "id": "eb93302b",
   "metadata": {},
   "outputs": [],
   "source": [
    "zeros = np.array([0,0,0])"
   ]
  },
  {
   "cell_type": "code",
   "execution_count": 20,
   "id": "d39f832a",
   "metadata": {},
   "outputs": [
    {
     "data": {
      "text/plain": [
       "array([[-50.2500000000000, 0.500000000000000, 1.00000000000000],\n",
       "       [0.500000000000000, -49.7500000000000, 0.500000000000000],\n",
       "       [1.00000000000000, 0.500000000000000, -50.2500000000000]],\n",
       "      dtype=object)"
      ]
     },
     "execution_count": 20,
     "metadata": {},
     "output_type": "execute_result"
    }
   ],
   "source": [
    "new_V"
   ]
  },
  {
   "cell_type": "code",
   "execution_count": 21,
   "id": "362724db",
   "metadata": {},
   "outputs": [],
   "source": [
    "new_V = np.array(new_V , dtype=float)"
   ]
  },
  {
   "cell_type": "code",
   "execution_count": 23,
   "id": "12b2015b",
   "metadata": {},
   "outputs": [
    {
     "data": {
      "text/plain": [
       "array([[6. , 0.5, 1. ],\n",
       "       [0.5, 6.5, 0.5],\n",
       "       [1. , 0.5, 6. ]])"
      ]
     },
     "execution_count": 23,
     "metadata": {},
     "output_type": "execute_result"
    }
   ],
   "source": [
    "V"
   ]
  },
  {
   "cell_type": "code",
   "execution_count": 27,
   "id": "d0e8859a",
   "metadata": {},
   "outputs": [],
   "source": [
    "val , vec = np.linalg.eigh(V)"
   ]
  },
  {
   "cell_type": "code",
   "execution_count": 28,
   "id": "3768f7d0",
   "metadata": {},
   "outputs": [
    {
     "data": {
      "text/plain": [
       "array([5. , 6. , 7.5])"
      ]
     },
     "execution_count": 28,
     "metadata": {},
     "output_type": "execute_result"
    }
   ],
   "source": [
    "val"
   ]
  },
  {
   "cell_type": "code",
   "execution_count": 29,
   "id": "97c6bd51",
   "metadata": {},
   "outputs": [
    {
     "data": {
      "text/plain": [
       "array([[ 7.07106781e-01,  4.08248290e-01, -5.77350269e-01],\n",
       "       [-7.00086403e-16, -8.16496581e-01, -5.77350269e-01],\n",
       "       [-7.07106781e-01,  4.08248290e-01, -5.77350269e-01]])"
      ]
     },
     "execution_count": 29,
     "metadata": {},
     "output_type": "execute_result"
    }
   ],
   "source": [
    "vec"
   ]
  },
  {
   "cell_type": "code",
   "execution_count": null,
   "id": "2f6ca835",
   "metadata": {},
   "outputs": [],
   "source": []
  }
 ],
 "metadata": {
  "kernelspec": {
   "display_name": "Python 3 (ipykernel)",
   "language": "python",
   "name": "python3"
  },
  "language_info": {
   "codemirror_mode": {
    "name": "ipython",
    "version": 3
   },
   "file_extension": ".py",
   "mimetype": "text/x-python",
   "name": "python",
   "nbconvert_exporter": "python",
   "pygments_lexer": "ipython3",
   "version": "3.9.13"
  }
 },
 "nbformat": 4,
 "nbformat_minor": 5
}
